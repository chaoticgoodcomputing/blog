{
 "cells": [
  {
   "cell_type": "code",
   "execution_count": 98,
   "metadata": {},
   "outputs": [],
   "source": [
    "import os\n",
    "import numpy as np\n",
    "import PIL.Image as Image"
   ]
  },
  {
   "cell_type": "code",
   "execution_count": 99,
   "metadata": {},
   "outputs": [],
   "source": [
    "def convert_txt_to_bytes(filepath: str) -> bytes:\n",
    "\twith open(filepath, 'r') as f:\n",
    "\t\tdata = f.read()\n",
    "\treturn data.encode('utf-8')\n",
    "\n",
    "def convert_bytes_to_image(data: bytes) -> Image:\n",
    "\t'''\n",
    "\tConverts a bytes object to an image in grayscale format.\t\n",
    "\t'''\n",
    "\t# We would like a square image, so we calculate the side length as the next integer past\n",
    "\t# the square root of the length of the data.\n",
    "\tside_len: int = int(np.ceil(np.sqrt(len(data))))\n",
    "\n",
    "\t# Pad the data with null bytes to make it a square.\n",
    "\tdata += b'\\0' * (side_len ** 2 - len(data))\n",
    "\n",
    "\t# Create an image from the data.\n",
    "\treturn Image.frombytes('L', (side_len, side_len), data)\n",
    "\n",
    "def convert_bytes_to_color_image(data: bytes) -> Image:\n",
    "\t'''\n",
    "\tConverts a bytes object to an image in RGB format.\n",
    "\t'''\n",
    "\n",
    "\t# We would like a square image, so we calculate the side length as the next integer past\n",
    "\t# the square root of the length of the data.\n",
    "\tside_len: int = int(np.ceil(np.sqrt(len(data) / 3)))\n",
    "\n",
    "\t# Clone the input data array so we don't modify the original.\n",
    "\tpadded_data = bytearray(data)\n",
    "\n",
    "\t# Pad the data with null bytes to make it a square.\n",
    "\tpadded_data += b'\\0' * (side_len ** 2 * 3 - len(data))\n",
    "\n",
    "\t# Create an image from the data.\n",
    "\treturn Image.frombytes('RGB', (side_len, side_len), padded_data)\n",
    "\n",
    "def convert_multiple_bytearrays_to_color_image(\n",
    "\t\tdata_arrays: list[bytes],\n",
    "\t\tspacer_rows: int = 4) -> Image:\n",
    "\t'''\n",
    "\tConverts a list of bytes objects to an image in RGBA format.\n",
    "\t'''\n",
    "\n",
    "\t# To accomodate clear spacing between the different data arrays, we calcluate the side\n",
    "\t# length of the combined byte array without spacing to guesstimate how the length of\n",
    "\t# the spacers.\n",
    "\tcombined_array = b''.join(data_arrays)\n",
    "\tside_len_estimate = np.sqrt(len(combined_array) / 3)\n",
    "\tnum_spacers = len(data_arrays) - 1\n",
    "\t\n",
    "\t# Calculate the total number of bytes each spacer will need to be\n",
    "\tpix_per_spacer = int(side_len_estimate * spacer_rows)\n",
    "\n",
    "\t# Combine the bytes arrays into a single bytes array, with each array separated by a spacer\n",
    "\t# of solid white RGBA pixels\n",
    "\tcombined_array = (b'\\xff\\xff\\xff' * pix_per_spacer).join(data_arrays)\n",
    "\n",
    "\tside_len = int(np.ceil(np.sqrt(len(combined_array) / 3)))\n",
    "\n",
    "\t# Pad the data with null bytes to make it a square.\n",
    "\tcombined_array += b'\\0' * (side_len ** 2 * 3 - len(combined_array))\n",
    "\n",
    "\t# Create an image from the data.\n",
    "\treturn Image.frombytes('RGB', (side_len, side_len), combined_array)\n"
   ]
  },
  {
   "cell_type": "code",
   "execution_count": 100,
   "metadata": {},
   "outputs": [],
   "source": [
    "filename_list = [f for f in os.listdir('data') if \".txt\" in f]"
   ]
  },
  {
   "cell_type": "code",
   "execution_count": 101,
   "metadata": {},
   "outputs": [],
   "source": [
    "file_images = {f.replace(\".txt~\", \"\"): convert_bytes_to_color_image(convert_txt_to_bytes(f\"data/{f}\")) for f in filename_list}"
   ]
  },
  {
   "cell_type": "code",
   "execution_count": 103,
   "metadata": {},
   "outputs": [],
   "source": [
    "for name, img in file_images.items():\n",
    "  img.save(f\"out/{name}.png\", \"PNG\")"
   ]
  },
  {
   "cell_type": "code",
   "execution_count": 107,
   "metadata": {},
   "outputs": [
    {
     "name": "stdout",
     "output_type": "stream",
     "text": [
      "[\"1_Harry Potter and the Sorcerer's Stone.txt~\", '2_Harry Potter and the Chamber of Secrets.txt~', '3_Harry Potter and the Prisoner of Azkaban.txt~', '4_Harry Potter and the Goblet of Fire.txt~', '5_Harry Potter and the Order of the Phoenix.txt~', '6_Harry Potter and The Half-Blood Prince.txt~', '7_Harry Potter and the Deathly Hallows.txt~']\n"
     ]
    }
   ],
   "source": [
    "# Create a single image from all input files\n",
    "sorted_filelist = sorted(filename_list)\n",
    "print(sorted_filelist)\n",
    "total_image = convert_multiple_bytearrays_to_color_image([convert_txt_to_bytes(f\"data/{f}\") for f in sorted_filelist])\n",
    "\n",
    "total_image.save(\"out/total.png\", \"PNG\")"
   ]
  }
 ],
 "metadata": {
  "kernelspec": {
   "display_name": "base",
   "language": "python",
   "name": "python3"
  },
  "language_info": {
   "codemirror_mode": {
    "name": "ipython",
    "version": 3
   },
   "file_extension": ".py",
   "mimetype": "text/x-python",
   "name": "python",
   "nbconvert_exporter": "python",
   "pygments_lexer": "ipython3",
   "version": "3.10.13"
  }
 },
 "nbformat": 4,
 "nbformat_minor": 2
}
